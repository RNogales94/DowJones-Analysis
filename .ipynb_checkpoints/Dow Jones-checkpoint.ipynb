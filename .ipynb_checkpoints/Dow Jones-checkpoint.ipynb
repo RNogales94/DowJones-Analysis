{
 "cells": [
  {
   "cell_type": "code",
   "execution_count": 1,
   "metadata": {},
   "outputs": [],
   "source": [
    "import yahoo_fin.stock_info as si\n",
    "import pandas as pd\n",
    "%matplotlib inline"
   ]
  },
  {
   "cell_type": "code",
   "execution_count": 2,
   "metadata": {},
   "outputs": [],
   "source": [
    "dow_jones_tickers = si.tickers_dow()"
   ]
  },
  {
   "cell_type": "code",
   "execution_count": 3,
   "metadata": {},
   "outputs": [],
   "source": [
    "prices = list(map(si.get_live_price, dow_jones_tickers))"
   ]
  },
  {
   "cell_type": "code",
   "execution_count": null,
   "metadata": {},
   "outputs": [],
   "source": [
    "for ticker in dow_jones_tickers:\n",
    "    si.get_data(ticker)['close'].plot('line')"
   ]
  },
  {
   "cell_type": "code",
   "execution_count": null,
   "metadata": {},
   "outputs": [],
   "source": [
    "import yahoo_fin.stock_info as si\n",
    "\n",
    "dow_table = pd.DataFrame([si.tickers_dow(), list(map(si.get_live_price, si.tickers_dow()))])\n",
    "dow_table = dow_table.transpose()\n",
    "dow_table.columns = ['Company', 'Price']\n",
    "dow_table"
   ]
  },
  {
   "cell_type": "code",
   "execution_count": null,
   "metadata": {},
   "outputs": [],
   "source": [
    "# Extracted from  https://en.wikipedia.org/wiki/Dow_Jones_Industrial_Average\n",
    "\n",
    "company_names = [\n",
    "'3M',\n",
    "'American Express',\n",
    "'Apple',\n",
    "'Boeing',\n",
    "'Caterpillar',\n",
    "'Chevron',\n",
    "'Cisco Systems',\n",
    "'Coca-Cola',\n",
    "'Dow Inc.',\n",
    "'ExxonMobil',\n",
    "'Goldman Sachs',\n",
    "'The Home Depot',\n",
    "'IBM',\n",
    "'Intel',\n",
    "'Johnson & Johnson',\n",
    "'JPMorgan Chase',\n",
    "'McDonald\\'s',\n",
    "'Merck & Company',\n",
    "'Microsoft',\n",
    "'Nike',\n",
    "'Pfizer',\n",
    "'Procter & Gamble',\n",
    "'Travelers',\n",
    "'UnitedHealth Group',\n",
    "'United Technologies',\n",
    "'Verizon',\n",
    "'Visa',\n",
    "'Walmart',\n",
    "'Walgreens Boots Alliance',\n",
    "'Walt Disney',\n",
    "]\n",
    "\n",
    "symbol = [\n",
    "'MMM',\n",
    "'AXP',\n",
    "'AAPL',\n",
    "'BA',\n",
    "'CAT',\n",
    "'CVX',\n",
    "'CSCO',\n",
    "'KO',\n",
    "'DOW',\n",
    "'XOM',\n",
    "'GS',\n",
    "'HD',\n",
    "'IBM',\n",
    "'INTC',\n",
    "'JNJ',\n",
    "'JPM',\n",
    "'MCD',\n",
    "'MRK',\n",
    "'MSFT',\n",
    "'NKE',\n",
    "'PFE',\n",
    "'PG',\n",
    "'TRV',\n",
    "'UNH',\n",
    "'UTX',\n",
    "'VZ',\n",
    "'V',\n",
    "'WMT',\n",
    "'WBA',\n",
    "'DIS',\n",
    "]\n",
    "\n",
    "industry = [\n",
    "'Conglomerate',\n",
    "'Financial services',\n",
    "'Information technologies',\n",
    "'Aerospace and defense',\n",
    "'Construction and mining equipment',\n",
    "'Oil & gas',\n",
    "'Information technologies',\n",
    "'Food',\n",
    "'Chemical industry',\n",
    "'Oil & gas',\n",
    "'Financial services',\n",
    "'Retail',\n",
    "'Information technologies',\n",
    "'Information technologies',\n",
    "'Pharmaceuticals',\n",
    "'Financial services',\n",
    "'Food',\n",
    "'Pharmaceuticals',\n",
    "'Information technologies',\n",
    "'Apparel',\n",
    "'Pharmaceuticals',\n",
    "'Consumer goods',\n",
    "'Insurance',\n",
    "'Managed health care',\n",
    "'Conglomerate',\n",
    "'Telecommunication',\n",
    "'Financial services',\n",
    "'Retail',\n",
    "'Retail',\n",
    "'Broadcasting and entertainment'\n",
    "]\n",
    "\n",
    "ticker2name = {k:v for k,v in zip(symbol, company_names) }\n",
    "ticker2industry = {k:v for k,v in zip(symbol, industry) }\n"
   ]
  },
  {
   "cell_type": "code",
   "execution_count": null,
   "metadata": {},
   "outputs": [],
   "source": [
    "powers = {'T': 10 ** 12, 'B': 10 ** 9, 'M': 10 ** 6}\n",
    "\n",
    "def f(s):\n",
    "    try:\n",
    "        power = s[-1]\n",
    "        return float(s[:-1]) * powers[power]\n",
    "    except TypeError:\n",
    "        return s\n",
    "\n",
    "\n",
    "def get_stats(ticker):\n",
    "    stats = si.get_stats(ticker)\n",
    "    values = list(stats['Value'])\n",
    "    atb = list(stats['Attribute'])\n",
    "    return values, atb\n",
    "\n",
    "def create_dow_table(index):\n",
    "    \n",
    "    tickers = si.tickers_dow()\n",
    "    \n",
    "    table = pd.DataFrame(columns=['Company', 'Price'] + get_stats(tickers[0])[1], index=tickers)\n",
    "    table['Company'] = tickers\n",
    "    table['Price'] = list(map(si.get_live_price, table['Company']))\n",
    "    table[table.columns.drop(['Company', 'Price'])] = list(map(lambda x: get_stats(x)[0], table['Company']))\n",
    "    return table\n",
    "\n",
    "dow = create_dow_table('dow')\n",
    "dow['Cap'] = dow['Market Cap (intraday) 5'].apply(f)\n",
    "dow.index = dow['Company'].apply(lambda x: ticker2name[x])\n",
    "dow['Industry'] = dow['Company'].apply(lambda x: ticker2industry[x])\n",
    "dow"
   ]
  },
  {
   "cell_type": "code",
   "execution_count": null,
   "metadata": {},
   "outputs": [],
   "source": [
    "dow.plot.pie(y='Cap', figsize=(20,20))"
   ]
  },
  {
   "cell_type": "code",
   "execution_count": null,
   "metadata": {},
   "outputs": [],
   "source": [
    "dow[['Industry', 'Cap']].groupby('Industry').agg('sum').plot.pie(y='Cap', figsize=(20,20), title='Dow Jones')"
   ]
  },
  {
   "cell_type": "code",
   "execution_count": null,
   "metadata": {},
   "outputs": [],
   "source": []
  }
 ],
 "metadata": {
  "kernelspec": {
   "display_name": "Python 3",
   "language": "python",
   "name": "python3"
  },
  "language_info": {
   "codemirror_mode": {
    "name": "ipython",
    "version": 3
   },
   "file_extension": ".py",
   "mimetype": "text/x-python",
   "name": "python",
   "nbconvert_exporter": "python",
   "pygments_lexer": "ipython3",
   "version": "3.6.6"
  }
 },
 "nbformat": 4,
 "nbformat_minor": 2
}
